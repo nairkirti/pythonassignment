{
 "cells": [
  {
   "cell_type": "code",
   "execution_count": 4,
   "metadata": {},
   "outputs": [
    {
     "name": "stdout",
     "output_type": "stream",
     "text": [
      "Enter a word to the list. Enter \" \" to stopyep\n",
      "Enter a word to the list. Enter \" \" to stopgreat\n",
      "Enter a word to the list. Enter \" \" to stopp\n",
      "Enter a word to the list. Enter \" \" to stop \n",
      "Output of the word list mapped to the word length in order is:\n"
     ]
    },
    {
     "data": {
      "text/plain": [
       "dict_values([3, 5, 1])"
      ]
     },
     "execution_count": 4,
     "metadata": {},
     "output_type": "execute_result"
    }
   ],
   "source": [
    "dict={}\n",
    "w='start'\n",
    "while (w!=' '):\n",
    "    w=input('Enter a word to the list. Enter \" \" to stop')\n",
    "    if (w==' '):\n",
    "        break\n",
    "    dict[w]=len(w)\n",
    "    \n",
    "print(\"Output of the word list mapped to the word length in order is:\")\n",
    "dict.values()\n",
    "\n",
    "    "
   ]
  },
  {
   "cell_type": "code",
   "execution_count": null,
   "metadata": {},
   "outputs": [],
   "source": []
  },
  {
   "cell_type": "code",
   "execution_count": null,
   "metadata": {},
   "outputs": [],
   "source": []
  }
 ],
 "metadata": {
  "kernelspec": {
   "display_name": "Python 3",
   "language": "python",
   "name": "python3"
  },
  "language_info": {
   "codemirror_mode": {
    "name": "ipython",
    "version": 3
   },
   "file_extension": ".py",
   "mimetype": "text/x-python",
   "name": "python",
   "nbconvert_exporter": "python",
   "pygments_lexer": "ipython3",
   "version": "3.7.1"
  }
 },
 "nbformat": 4,
 "nbformat_minor": 2
}
