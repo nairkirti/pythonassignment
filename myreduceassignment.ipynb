{
 "cells": [
  {
   "cell_type": "code",
   "execution_count": 8,
   "metadata": {},
   "outputs": [
    {
     "name": "stdout",
     "output_type": "stream",
     "text": [
      "Sum of the numbers in the list is 11\n",
      "Largest nmber in the list is 5\n"
     ]
    }
   ],
   "source": [
    "\n",
    "def sum(x,y):\n",
    "    x+=y\n",
    "    return(x)\n",
    "\n",
    "def max(x,y):\n",
    "    if x>=y:\n",
    "        return (x)\n",
    "    else:\n",
    "        return(y)\n",
    "    \n",
    "def myreduce(func_name, lst):\n",
    "    num = lst[0] \n",
    "    for i in lst:\n",
    "        \n",
    "        if i is lst[0]:      #to skip function for the first element in the list, checking if references are the same\n",
    "            continue\n",
    "        else:\n",
    "            num= func_name(num,i)\n",
    "    return num\n",
    "\n",
    "l=[1,2,3,5]\n",
    "sum=myreduce(sum,l)\n",
    "print(\"Sum of the numbers in the list is %d\" %sum)\n",
    "max=myreduce(max,l)\n",
    "print(\"Largest nmber in the list is %d\" %max)"
   ]
  },
  {
   "cell_type": "code",
   "execution_count": null,
   "metadata": {},
   "outputs": [],
   "source": []
  }
 ],
 "metadata": {
  "kernelspec": {
   "display_name": "Python 3",
   "language": "python",
   "name": "python3"
  },
  "language_info": {
   "codemirror_mode": {
    "name": "ipython",
    "version": 3
   },
   "file_extension": ".py",
   "mimetype": "text/x-python",
   "name": "python",
   "nbconvert_exporter": "python",
   "pygments_lexer": "ipython3",
   "version": "3.7.1"
  }
 },
 "nbformat": 4,
 "nbformat_minor": 2
}
