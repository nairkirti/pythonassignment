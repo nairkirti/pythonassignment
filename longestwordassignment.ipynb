{
 "cells": [
  {
   "cell_type": "code",
   "execution_count": 7,
   "metadata": {},
   "outputs": [
    {
     "name": "stdout",
     "output_type": "stream",
     "text": [
      "Enter a wordyup\n",
      "Enter a wordpup\n",
      "Enter a wordamazing\n",
      "Enter a wordthree\n",
      "Enter a word \n",
      "{'yup': 3, 'pup': 3, 'amazing': 7, 'three': 5}\n",
      "4\n",
      "Longest word in the entered is amazing\n"
     ]
    }
   ],
   "source": [
    "def longestWord():\n",
    "    dict={}\n",
    "    while(True):\n",
    "        word=input('Enter a word')\n",
    "        if word==\" \":\n",
    "            break\n",
    "        else:\n",
    "            dict[word]=len(word)\n",
    "    print(dict)\n",
    "    print(len(dict))\n",
    "    max=0\n",
    "    for i in range (0,len(dict)):\n",
    "        if max<list(dict.values())[i]:\n",
    "            max=list(dict.values())[i]\n",
    "            bigword=list(dict.keys())[i]\n",
    "        else:\n",
    "            continue\n",
    "    print(\"Longest word in the entered is %s\" %bigword)\n",
    "    \n",
    "longestWord()\n",
    "    "
   ]
  },
  {
   "cell_type": "raw",
   "metadata": {},
   "source": []
  },
  {
   "cell_type": "code",
   "execution_count": null,
   "metadata": {
    "collapsed": true
   },
   "outputs": [],
   "source": []
  }
 ],
 "metadata": {
  "kernelspec": {
   "display_name": "Python 3",
   "language": "python",
   "name": "python3"
  },
  "language_info": {
   "codemirror_mode": {
    "name": "ipython",
    "version": 3
   },
   "file_extension": ".py",
   "mimetype": "text/x-python",
   "name": "python",
   "nbconvert_exporter": "python",
   "pygments_lexer": "ipython3",
   "version": "3.7.1"
  }
 },
 "nbformat": 4,
 "nbformat_minor": 2
}
