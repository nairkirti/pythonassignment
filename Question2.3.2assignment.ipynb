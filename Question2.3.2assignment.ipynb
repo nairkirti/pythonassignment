{
 "cells": [
  {
   "cell_type": "code",
   "execution_count": 12,
   "metadata": {},
   "outputs": [
    {
     "name": "stdout",
     "output_type": "stream",
     "text": [
      "['A', 'C', 'A', 'D', 'G', 'I', 'L', 'D']\n",
      "['x', 'xx', 'xxx', 'xxxx', 'y', 'yy', 'yyy', 'yyyy', 'z', 'zz', 'zzz', 'zzzz']\n",
      "['x', 'y', 'z', 'xx', 'yy', 'zz', 'xxx', 'yyy', 'zzz', 'xxxx', 'yyyy', 'zzzz']\n",
      "[[2], [3], [4], [3], [4], [5], [4], [5], [6]] [[2, 3, 4, 5], [3, 4, 5, 6], [4, 5, 6, 7], [5, 6, 7, 8]]\n"
     ]
    }
   ],
   "source": [
    "lst1=list(\"ACADGILD\")\n",
    "#to print ['A', 'C', 'A', 'D', 'G', 'I', 'L', 'D']\n",
    "print(lst1)\n",
    "\n",
    "#to print ['x', 'xx', 'xxx', 'xxxx', 'y', 'yy', 'yyy', 'yyyy', 'z', 'zz', 'zzz', 'zzzz']\n",
    "lst=[\"x\",\"y\",\"z\"]\n",
    "lst\n",
    "l=[]\n",
    "for i in lst:\n",
    "    for j in range (1,5):\n",
    "        l.append(i*j)\n",
    "        \n",
    "print(l)\n",
    "\n",
    "\n",
    "# to print ['x', 'y', 'z', 'xx', 'yy', 'zz', 'xxx', 'yyy', 'zzz', 'xxxx', 'yyyy', 'zzzz']\n",
    "l1=[]\n",
    "for i in range (1,5):\n",
    "    for j in lst:\n",
    "        l1.append(j*i)\n",
    "    \n",
    "print(l1)\n",
    "\n",
    "\n",
    "# to print [[2], [3], [4], [3], [4], [5], [4], [5], [6]] [[2, 3, 4, 5], [3, 4, 5, 6], [4, 5, 6, 7], [5, 6, 7, 8]]\n",
    "l2=[]\n",
    "for i in range(2,5):\n",
    "    for j in range(i,i+3):\n",
    "        l3=[j]\n",
    "        l2.append(l3)\n",
    "        \n",
    "\n",
    "l4=[]\n",
    "\n",
    "for i in range(2,6):\n",
    "    l5=[]\n",
    "    for j in range(i,i+4):\n",
    "        l5.append(j)\n",
    "    l4.append(l5)\n",
    "print(l2, l4)\n",
    "\n",
    "\n",
    "#To print [(1, 1), (2, 1), (3, 1), (1, 2), (2, 2), (3, 2), (1, 3), (2, 3), (3, 3)]\n",
    "t=()\n",
    "l6=[]\n",
    "for i in range (1,4):\n",
    "    for j in range (1,4):\n",
    "        t=(j,i)\n",
    "        l6.append(t)\n",
    "print (l6)"
   ]
  },
  {
   "cell_type": "code",
   "execution_count": null,
   "metadata": {},
   "outputs": [],
   "source": []
  },
  {
   "cell_type": "code",
   "execution_count": null,
   "metadata": {},
   "outputs": [],
   "source": []
  }
 ],
 "metadata": {
  "kernelspec": {
   "display_name": "Python 3",
   "language": "python",
   "name": "python3"
  },
  "language_info": {
   "codemirror_mode": {
    "name": "ipython",
    "version": 3
   },
   "file_extension": ".py",
   "mimetype": "text/x-python",
   "name": "python",
   "nbconvert_exporter": "python",
   "pygments_lexer": "ipython3",
   "version": "3.7.1"
  }
 },
 "nbformat": 4,
 "nbformat_minor": 2
}
