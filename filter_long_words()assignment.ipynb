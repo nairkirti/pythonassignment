{
 "cells": [
  {
   "cell_type": "code",
   "execution_count": 3,
   "metadata": {},
   "outputs": [
    {
     "name": "stdout",
     "output_type": "stream",
     "text": [
      "Enter values to the list. Press ' ' once done.den\n",
      "Enter values to the list. Press ' ' once done.bat\n",
      "Enter values to the list. Press ' ' once done.precious\n",
      "Enter values to the list. Press ' ' once done.ball\n",
      "Enter values to the list. Press ' ' once done. \n",
      "List is:\n",
      "['den', 'bat', 'precious', 'ball', ' ']\n",
      "Enter min. length to compare:3\n",
      "List with words having length greater than 3 is: \n",
      "['precious', 'ball']\n"
     ]
    }
   ],
   "source": [
    "def filter_long_words(l,n):\n",
    "    m=[]\n",
    "    for i in l:\n",
    "        if (len(i)>n):\n",
    "            m.append(i)\n",
    "    print(m)\n",
    "    \n",
    "lst=[]\n",
    "a=\"start\"\n",
    "while(a!=' '):\n",
    "    a=input(\"Enter values to the list. Press ' ' once done.\")\n",
    "    lst.append(a)\n",
    "\n",
    "print('List is:')\n",
    "print(lst)\n",
    "\n",
    "min=int(input(\"Enter min. length to compare:\"))\n",
    "print('List with words having length greater than %d is: ' %min)\n",
    "filter_long_words(lst,min)\n",
    "\n",
    "    "
   ]
  },
  {
   "cell_type": "code",
   "execution_count": null,
   "metadata": {},
   "outputs": [],
   "source": []
  },
  {
   "cell_type": "code",
   "execution_count": null,
   "metadata": {},
   "outputs": [],
   "source": []
  },
  {
   "cell_type": "code",
   "execution_count": null,
   "metadata": {},
   "outputs": [],
   "source": []
  }
 ],
 "metadata": {
  "kernelspec": {
   "display_name": "Python 3",
   "language": "python",
   "name": "python3"
  }
 },
 "nbformat": 4,
 "nbformat_minor": 2
}
